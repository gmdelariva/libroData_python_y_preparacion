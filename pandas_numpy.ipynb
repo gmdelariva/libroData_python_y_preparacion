{
 "cells": [
  {
   "cell_type": "markdown",
   "id": "b11703c3",
   "metadata": {},
   "source": [
    "<div style=\"background-color: #FED8B1; color: #551A8B;\">  \n",
    "  \n",
    "<span style='font-family:verdana;'>\n",
    "    \n",
    "## Elementos de Pandas y de Numpy que se usan habitualmente    \n",
    "\n",
    "\n",
    "</span>\n",
    "\n",
    "</div>"
   ]
  },
  {
   "cell_type": "markdown",
   "id": "a7cfe2cf",
   "metadata": {},
   "source": [
    "https://pandas.pydata.org/\n",
    "\n",
    "https://pandas.pydata.org/docs/reference/index.html\n",
    "    \n",
    "https://numpy.org/\n",
    "    \n",
    "https://numpy.org/doc/stable/reference/index.html"
   ]
  },
  {
   "cell_type": "code",
   "execution_count": null,
   "id": "69f75b8b",
   "metadata": {},
   "outputs": [],
   "source": []
  },
  {
   "cell_type": "code",
   "execution_count": 1,
   "id": "b7753fe2",
   "metadata": {},
   "outputs": [],
   "source": [
    "import pandas as pd"
   ]
  },
  {
   "cell_type": "code",
   "execution_count": 2,
   "id": "3f434cfc",
   "metadata": {},
   "outputs": [],
   "source": [
    "import numpy as np"
   ]
  },
  {
   "cell_type": "code",
   "execution_count": null,
   "id": "9f8f999d",
   "metadata": {},
   "outputs": [],
   "source": []
  },
  {
   "cell_type": "markdown",
   "id": "c1e06f69",
   "metadata": {},
   "source": [
    "<div style=\"background-color: #FED8B1; color: #551A8B;\">  \n",
    "  \n",
    "<span style='font-family:verdana;'>\n",
    "    \n",
    "## SERIE"
   ]
  },
  {
   "cell_type": "markdown",
   "id": "56b9e885",
   "metadata": {},
   "source": [
    "Arrays unidimensionales con índice"
   ]
  },
  {
   "cell_type": "code",
   "execution_count": 3,
   "id": "1613b6e4",
   "metadata": {},
   "outputs": [
    {
     "data": {
      "text/plain": [
       "0      cero\n",
       "1       uno\n",
       "2       dos\n",
       "3      tres\n",
       "4    cuatro\n",
       "5     cinco\n",
       "6      seis\n",
       "7     siete\n",
       "8      ocho\n",
       "9     nueve\n",
       "dtype: object"
      ]
     },
     "execution_count": 3,
     "metadata": {},
     "output_type": "execute_result"
    }
   ],
   "source": [
    "numeros = pd.Series(['cero', 'uno', 'dos', 'tres', 'cuatro', 'cinco', 'seis', \n",
    "                         'siete', 'ocho', 'nueve'])\n",
    "numeros"
   ]
  },
  {
   "cell_type": "markdown",
   "id": "3aa2f90f",
   "metadata": {},
   "source": [
    "***Se pueden generar Series a partir de Diccionarios:***"
   ]
  },
  {
   "cell_type": "code",
   "execution_count": 4,
   "id": "65291ad6",
   "metadata": {},
   "outputs": [
    {
     "data": {
      "text/plain": [
       "0      cero\n",
       "1       uno\n",
       "2       dos\n",
       "3      tres\n",
       "4    cuatro\n",
       "5     cinco\n",
       "6      seis\n",
       "7     siete\n",
       "8      ocho\n",
       "9     nueve\n",
       "dtype: object"
      ]
     },
     "execution_count": 4,
     "metadata": {},
     "output_type": "execute_result"
    }
   ],
   "source": [
    "dict_numeros = {0: 'cero', 1: 'uno', 2: 'dos', 3: 'tres', 4: 'cuatro', 5: 'cinco', 6: 'seis', \n",
    "                        7: 'siete', 8: 'ocho', 9: 'nueve'\n",
    "               }\n",
    "\n",
    "dict_numeros_to_series = pd.Series(dict_numeros)\n",
    "\n",
    "dict_numeros_to_series"
   ]
  },
  {
   "cell_type": "markdown",
   "id": "1b7ecd8b",
   "metadata": {},
   "source": [
    "***Series temporales son las que tienen como índice un instante temporal (timestamp)***"
   ]
  },
  {
   "cell_type": "code",
   "execution_count": 3,
   "id": "0cd544a1",
   "metadata": {},
   "outputs": [
    {
     "data": {
      "text/plain": [
       "2023-01-01    1\n",
       "2023-01-02    2\n",
       "2023-01-03    3\n",
       "2023-01-04    4\n",
       "2023-01-05    5\n",
       "dtype: int64"
      ]
     },
     "execution_count": 3,
     "metadata": {},
     "output_type": "execute_result"
    }
   ],
   "source": [
    "time_serie = pd.Series([1, 2, 3, 4, 5], \n",
    "                       index=pd.DatetimeIndex(['2023-01-01', \\\n",
    "                            '2023-01-02', '2023-01-03', '2023-01-04', '2023-01-05']))\n",
    "time_serie"
   ]
  },
  {
   "cell_type": "markdown",
   "id": "c6aae3a8",
   "metadata": {},
   "source": [
    "<div style=\"background-color: #FED8B1; color: #551A8B;\"> \n",
    "  \n",
    "<span style='font-family:verdana;'>\n",
    "    \n",
    "## DATAFRAME\n",
    "\n"
   ]
  },
  {
   "cell_type": "markdown",
   "id": "1feebc0b-bb88-4457-99b0-7a96d93d32a5",
   "metadata": {},
   "source": [
    "Es una estructura de datos similar a una tabla de una base de datos relacionar.\n",
    "\n",
    "Se puede crear a partir de  una lista, de un diccionario, de una Serie, de otro DataFrame, leyendo una tabla excel, de ficheros csv, json, xml, etc, y desde una url."
   ]
  },
  {
   "cell_type": "markdown",
   "id": "65207b86",
   "metadata": {},
   "source": [
    "***Creación desde un diccionario:***"
   ]
  },
  {
   "cell_type": "code",
   "execution_count": 6,
   "id": "22a06ddc",
   "metadata": {},
   "outputs": [
    {
     "data": {
      "text/html": [
       "<div>\n",
       "<style scoped>\n",
       "    .dataframe tbody tr th:only-of-type {\n",
       "        vertical-align: middle;\n",
       "    }\n",
       "\n",
       "    .dataframe tbody tr th {\n",
       "        vertical-align: top;\n",
       "    }\n",
       "\n",
       "    .dataframe thead th {\n",
       "        text-align: right;\n",
       "    }\n",
       "</style>\n",
       "<table border=\"1\" class=\"dataframe\">\n",
       "  <thead>\n",
       "    <tr style=\"text-align: right;\">\n",
       "      <th></th>\n",
       "      <th>nombre</th>\n",
       "      <th>simbolo</th>\n",
       "      <th>num_atomico</th>\n",
       "      <th>tipo</th>\n",
       "    </tr>\n",
       "  </thead>\n",
       "  <tbody>\n",
       "    <tr>\n",
       "      <th>a</th>\n",
       "      <td>oxigeno</td>\n",
       "      <td>O</td>\n",
       "      <td>8</td>\n",
       "      <td>NoMetal</td>\n",
       "    </tr>\n",
       "    <tr>\n",
       "      <th>b</th>\n",
       "      <td>hierro</td>\n",
       "      <td>Fe</td>\n",
       "      <td>26</td>\n",
       "      <td>Metal</td>\n",
       "    </tr>\n",
       "    <tr>\n",
       "      <th>c</th>\n",
       "      <td>boro</td>\n",
       "      <td>B</td>\n",
       "      <td>5</td>\n",
       "      <td>Metaloide</td>\n",
       "    </tr>\n",
       "    <tr>\n",
       "      <th>d</th>\n",
       "      <td>cloro</td>\n",
       "      <td>Cl</td>\n",
       "      <td>17</td>\n",
       "      <td>Halogeno</td>\n",
       "    </tr>\n",
       "  </tbody>\n",
       "</table>\n",
       "</div>"
      ],
      "text/plain": [
       "    nombre simbolo  num_atomico       tipo\n",
       "a  oxigeno       O            8    NoMetal\n",
       "b   hierro      Fe           26      Metal\n",
       "c     boro       B            5  Metaloide\n",
       "d    cloro      Cl           17   Halogeno"
      ]
     },
     "execution_count": 6,
     "metadata": {},
     "output_type": "execute_result"
    }
   ],
   "source": [
    "df_elementos = pd.DataFrame(\n",
    "    {\n",
    "        'nombre': ['oxigeno', 'hierro', 'boro', 'cloro'],\n",
    "        'simbolo':['O', 'Fe', 'B', 'Cl'],\n",
    "        'num_atomico': [8, 26, 5, 17],\n",
    "        'tipo': ['NoMetal', 'Metal', 'Metaloide', 'Halogeno']\n",
    "    }, \n",
    "    index=['a', 'b','c','d'], \n",
    "    columns=['nombre', 'simbolo','num_atomico', 'tipo'] \n",
    ")\n",
    "df_elementos"
   ]
  },
  {
   "cell_type": "markdown",
   "id": "23b91c80",
   "metadata": {},
   "source": [
    "***Lectura desde fichero*** (lo más habitual, desde csv)\n",
    "\n",
    "https://pandas.pydata.org/pandas-docs/stable/reference/api/pandas.read_csv.html"
   ]
  },
  {
   "cell_type": "markdown",
   "id": "d16e9a3a",
   "metadata": {},
   "source": [
    "pd.read_csv('nombre_del_archivo', sep=',', header=0)"
   ]
  },
  {
   "cell_type": "markdown",
   "id": "35c97863",
   "metadata": {},
   "source": [
    "Muy importante el encoding!!"
   ]
  },
  {
   "cell_type": "raw",
   "id": "57832aad-2874-4d3c-83eb-88d125fca727",
   "metadata": {},
   "source": [
    "pd.read_csv(“ruta y nombre del archivo”)"
   ]
  },
  {
   "cell_type": "markdown",
   "id": "af969a97",
   "metadata": {},
   "source": [
    "Desde una url sería por ejemplo:"
   ]
  },
  {
   "cell_type": "raw",
   "id": "2af0ce1c",
   "metadata": {},
   "source": [
    "pd.read_csv('https://www.xxxxxx/yyyy.csv', header=0)"
   ]
  },
  {
   "cell_type": "markdown",
   "id": "4bc7a325",
   "metadata": {},
   "source": [
    "***Para salvar el dataframe en un fichero:***"
   ]
  },
  {
   "cell_type": "raw",
   "id": "cb915098",
   "metadata": {},
   "source": [
    "df.to_csv('./carpeta1/carpetan/ejemplo_export_DataFrame_csv.csv')"
   ]
  },
  {
   "cell_type": "markdown",
   "id": "99f8539c",
   "metadata": {},
   "source": [
    "***Analogamente a to_excel, to_json...***"
   ]
  },
  {
   "cell_type": "markdown",
   "id": "3bd87255",
   "metadata": {},
   "source": [
    "<div style=\"background-color: #FED8B1; color: #551A8B;\"> \n",
    "  \n",
    "<span style='font-family:verdana;'>\n",
    "    \n",
    "## Métodos usados habitualmente"
   ]
  },
  {
   "cell_type": "markdown",
   "id": "315cc4f2",
   "metadata": {},
   "source": [
    "df.index-->Devuelve el rango de valores de los índices del DataFrame\n",
    "\n",
    "df.columns-->Devuelve el nombre de las columnas del DataFrame\n",
    "\n",
    "df.values-->Devuelve un numpy array con los valores del DataFrame\n",
    "\n",
    "df.shape-->Devuelve una tupla con las dimensiones del DataFrame (Nº Filas, Nº Columnas)\n",
    "\n",
    "len(df)-->Devuelve el número de filas que tiene el DataFrame\n",
    "\n",
    "df.types-->Devuelve el tipo de dato de cada una de las columnas\n",
    "\n",
    "df.head(n)-->Devuelve un DataFrame con los 'n' primeros elementos\n",
    "\n",
    "df.tail(n)-->Devuelve un DataFrame con los 'n' últimos elementos\n",
    "\n",
    "df.sample(n)-->Devuelve un DataFrame con 'n' filas seleccionadas al azar\n",
    "\n",
    "df['nombre_columna'].unique()-->Devuelve los valores únicos de la columna del DataFrame\n",
    "\n",
    "df.rename(columns={old_name: new_name})-->Cambia el nombre de las columnas, indicando en un diccionario el nombre antiguo como clave y el nombre nuevo de la columna como valor\n",
    "\n",
    "df.drop(columns='[col_1', ..., 'col_n'])-->Elimina las columnas que se pasan como parámetro en una lista \n",
    "\n",
    "df.reindex(new_index)--> Reasigna los indices que se pasan en una lista como parámetro \n",
    "\n",
    "df.drop(index)--> Elimina las filas con los indices que se pasan en una lista como parámetro \n",
    "\n",
    "df.rename(index={old_index: new_index})-->Reasigna los índices del DataFrame indicando en un diccionario que se le pasa como parámetros el indice a sustituir y el valor del nuevo indice \n",
    "\n",
    "df.sort_index(ascending=True/False)--> Ordena los índices del DataFrame de manera ascendente o descendente \n",
    "\n",
    "df.reset_index()--> Reasigna de nuevo los índices al DataFrame \n",
    "\n",
    "df.sort_values(col_name, ascending=True/False)-->Ordena de manera ascendente o descendente los valores de la columna indicada \n",
    "\n",
    "df.duplicated()-->Devuelve un valor Booleano indicando aquellas columnas cuyo contenido esta o no repetido \n",
    "\n",
    "df.index.duplicated()--> Devuelve un valor Booleano indicando aquellas columnas con índices repetidos \n",
    "\n",
    "df.drop_duplicates(keep='first'/'last')--> Elimina las columnas del DataFrame que estén duplicadas excepto la primera o la última, indicando esto con el parámetro 'keep' \n",
    "\n",
    "df.dropna()--> Elimina del DataFrame todas aquellas columnas que tengan valores nulos \n",
    "\n",
    "df.fillna(df.xxx())--> Sustituye para las columnas de tipo numérico todos aquellos valores nulos por otro valor relativo a la columnas como puede ser su media, mediana, moda, etc, indicando esa función como parámetro \n",
    "\n",
    "df.replace('a', 'b')-->Sustituye en el DataFrame todas aquellas ocurrencias 'a' por otro valor 'b' \n"
   ]
  },
  {
   "cell_type": "code",
   "execution_count": null,
   "id": "d6ac13dd",
   "metadata": {},
   "outputs": [],
   "source": []
  },
  {
   "cell_type": "markdown",
   "id": "187b64f4",
   "metadata": {},
   "source": [
    "     count--> Número de observaciones no nulas\n",
    "     sum--> Suma de los valores\n",
    "     mean--> Media de los valores\n",
    "     mad--> Desviación Media Absoluta de los valores\n",
    "     median--> Mediana de los valores\n",
    "     min--> Valor mínimo\n",
    "     max--> Valor máximo\n",
    "     first--> Primer valor encontrado en la agrupación\n",
    "     last--> Último elemento encontrado en la agrupación\n",
    "     mode--> Moda\n",
    "     product--> Producto de los valores\n",
    "     std--> Desviación Estandar\n",
    "     var--> Varianza\n",
    "     sem--> Error estandar\n",
    "     skew--> Asimetria de los valores\n",
    "     kurt--> La Curtosis\n",
    "     quantile--> Cuantil\n",
    "     value_counts--> Número de valores únicos"
   ]
  },
  {
   "cell_type": "code",
   "execution_count": null,
   "id": "e70e39a6",
   "metadata": {},
   "outputs": [],
   "source": []
  },
  {
   "cell_type": "markdown",
   "id": "6862d68f",
   "metadata": {},
   "source": [
    "***Importante***"
   ]
  },
  {
   "cell_type": "markdown",
   "id": "7d26e43f",
   "metadata": {},
   "source": [
    "df.info()\n",
    "\n",
    "df.describe()"
   ]
  },
  {
   "cell_type": "markdown",
   "id": "e143e390",
   "metadata": {},
   "source": [
    "<div style=\"background-color: #FED8B1; color: #551A8B;\"> \n",
    "  \n",
    "<span style='font-family:verdana;'>\n",
    "    \n",
    "## Condiciones"
   ]
  },
  {
   "cell_type": "raw",
   "id": "7d41694a",
   "metadata": {},
   "source": [
    "df[df.nombreColumna == \"aaa\"]\n",
    "\n",
    "df[df['nombreColumna == 'aaa']"
   ]
  },
  {
   "cell_type": "raw",
   "id": "e95d8d7b",
   "metadata": {},
   "source": [
    "df[(df.nomColumn1 == \"aaa\") &\n",
    "            (df.nomColumn2 == \"bbb\") &\n",
    "            (df.nomColumn3 > 7)]"
   ]
  },
  {
   "cell_type": "markdown",
   "id": "01c6fea2",
   "metadata": {},
   "source": [
    "<div style=\"background-color: #FED8B1; color: #551A8B;\"> \n",
    "  \n",
    "<span style='font-family:verdana;'>\n",
    "    \n",
    "## Lambda"
   ]
  },
  {
   "cell_type": "markdown",
   "id": "3e92f5e8",
   "metadata": {},
   "source": [
    "df['nombre_nueva_columna'] = df.apply(lambda row: row.nombre_columna_origen, axis=1)"
   ]
  },
  {
   "cell_type": "markdown",
   "id": "9b254f69",
   "metadata": {},
   "source": [
    "Ex: de Celsius a Fahrenheit"
   ]
  },
  {
   "cell_type": "raw",
   "id": "9289c265",
   "metadata": {},
   "source": [
    "df['temp_faren'] = df.apply(lambda row: (row.temp_celsius * 9 / 5) + 32, axis=1)"
   ]
  },
  {
   "cell_type": "markdown",
   "id": "36070211",
   "metadata": {},
   "source": [
    "Con condiciones:"
   ]
  },
  {
   "cell_type": "raw",
   "id": "985b5719",
   "metadata": {},
   "source": [
    "df['nombre_nueva_columna'] = df['nombre_columna_origen'].apply(lambda x: 'a' if x==1 else 'b')\n",
    "\n",
    "df['nombre_nueva_columna'] = df.apply(lambda row: 'a' if row.nombre_columna_origen==1 else 'b', axis=1)"
   ]
  },
  {
   "cell_type": "markdown",
   "id": "df073c42",
   "metadata": {},
   "source": [
    "<div style=\"background-color: #FED8B1; color: #551A8B;\"> \n",
    "  \n",
    "<span style='font-family:verdana;'>\n",
    "    \n",
    "## Agregaciones"
   ]
  },
  {
   "cell_type": "raw",
   "id": "079c13cb",
   "metadata": {},
   "source": [
    "df.groupby(['nombreColumna']).agg(['count'])"
   ]
  },
  {
   "cell_type": "raw",
   "id": "d5d04c66",
   "metadata": {},
   "source": [
    "df.groupby(['nombreColumna'])['nombreColumna'].agg(['count'])"
   ]
  },
  {
   "cell_type": "raw",
   "id": "8f618e78",
   "metadata": {},
   "source": [
    "df.groupby(['nombreColumna1', 'nombreColumna2'])['nombreColumna3'] \\\n",
    "           .agg(['count']) \\\n",
    "           .reset_index()"
   ]
  },
  {
   "cell_type": "raw",
   "id": "0244a871",
   "metadata": {},
   "source": [
    "df.groupby(['nombreColumna1'])['nombreColumna2'] \\\n",
    "           .agg(['count', 'sum', 'mean', 'median', 'max', \\\n",
    "              'min', 'std', 'var', 'first', 'last']) \\\n",
    "                .reset_index()"
   ]
  },
  {
   "cell_type": "raw",
   "id": "b1810b5f",
   "metadata": {},
   "source": [
    "df.groupby(['nombreColumna1', 'nombreColumna2'])['nombreColumna3'] \\\n",
    "           .agg(['count', 'sum', 'mean', 'median']) \\\n",
    "           .reset_index()"
   ]
  },
  {
   "cell_type": "markdown",
   "id": "cccc638c",
   "metadata": {},
   "source": [
    "<div style=\"background-color: #FED8B1; color: #551A8B;\"> \n",
    "  \n",
    "<span style='font-family:verdana;'>\n",
    "    \n",
    "## Orden"
   ]
  },
  {
   "cell_type": "raw",
   "id": "0b051a00",
   "metadata": {},
   "source": [
    "df.sort_values(by='nomColumna', ascending=False)"
   ]
  },
  {
   "cell_type": "markdown",
   "id": "b3e6548e",
   "metadata": {},
   "source": [
    "<div style=\"background-color: #FED8B1; color: #551A8B;\"> \n",
    "  \n",
    "<span style='font-family:verdana;'>\n",
    "    \n",
    "## JOINS"
   ]
  },
  {
   "cell_type": "markdown",
   "id": "ad10682a",
   "metadata": {},
   "source": [
    "pd.merge(left_data_frame, right_data_frame, how='tipo_de_join', left_on='id_left', right_on='id_right')\n",
    "\n",
    "df_x = pd.DataFrame({'id_x': ['a', 'b'], 'long': ['aaaa', 'bbb']})\n",
    "df_y = pd.DataFrame({'id_y': ['b', 'c'], 'sort': ['bb', 'cc']})\n",
    "\n",
    "***INNER JOIN*** selecciona todas las filas de los dos DataFrames siempre y cuando haya una coincidencia entre las columnas en ambos DataFrames.\n",
    " \n",
    "df = pd.merge(df_pasajeros, df_supervivientes, on='PassengerId', how='inner')\n",
    "\n",
    "\n",
    "***LEFT JOIN*** mantiene todas las filas del DataFrame de la izquierda (left). Las filas del DataFrame de la derecha (right) se mostrarán si hay una coincidencia con los de la izquierda. \n",
    "\n",
    "Si existen valores en el DataFrame de la izquierda pero no en el de la derecha, éste mostrará NaN.\n",
    "\n",
    "df_left = pd.merge(df_x, df_y, how='left', left_on='id_x', right_on='id_y')\n",
    "\n",
    "\n",
    "***RIGHT JOIN*** mantiene todas las filas del DataFrame de la derecha(right). Las filas del DataFrame de la Izquierda (left) se mostrarán si hay una coincidencia con las de la derecha. \n",
    "\n",
    "Si existen valores en el DataFrame de la derecha pero no en el de la izquierda, éste mostrará NaN\n",
    "\n",
    "\n",
    "***OUTER JOIN*** o (FULL OUTER JOIN) devuelve todas las filas del DataFrame de la izquierda (left) y del de la derecha (right). \n",
    "\n",
    "Aparecerá NaN  en cada uno de los DataFrames alternativamente cuando no haya una coincidencia.\n",
    "\n",
    "\n",
    "\n",
    "***UNION*** (o Concat en Pandas) permite unir dos o más DataFrames (de forma vertical).\n",
    "pd.concat([df_1, df_2,...,df_n], sort=Boolean)"
   ]
  },
  {
   "cell_type": "markdown",
   "id": "f6624831",
   "metadata": {},
   "source": [
    "<div style=\"background-color: #FED8B1; color: #551A8B;\"> \n",
    "  \n",
    "<span style='font-family:verdana;'>\n",
    "    \n",
    "## Pivot Table\n",
    "\n"
   ]
  },
  {
   "cell_type": "markdown",
   "id": "02299c61-c020-480d-8f4d-159e92e96505",
   "metadata": {},
   "source": [
    "Esta operación permite poner ciertas columnas en filas y ciertas filas en columnas.\n",
    "\n",
    "df.pivot(index='nombre_columna_a_fila', columns='nombre_columna_a_columna', values='nombre_columna_a_valores')\n",
    "\n",
    "En esencia es una operación que permite crear una 'matriz de valores' a partir de una 'tabla'."
   ]
  },
  {
   "cell_type": "code",
   "execution_count": null,
   "id": "92d7cfd9-19bf-418a-9614-1976d0570899",
   "metadata": {},
   "outputs": [],
   "source": []
  }
 ],
 "metadata": {
  "kernelspec": {
   "display_name": "Python 3 (ipykernel)",
   "language": "python",
   "name": "python3"
  },
  "language_info": {
   "codemirror_mode": {
    "name": "ipython",
    "version": 3
   },
   "file_extension": ".py",
   "mimetype": "text/x-python",
   "name": "python",
   "nbconvert_exporter": "python",
   "pygments_lexer": "ipython3",
   "version": "3.9.18"
  }
 },
 "nbformat": 4,
 "nbformat_minor": 5
}
