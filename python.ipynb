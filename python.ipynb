{
 "cells": [
  {
   "cell_type": "markdown",
   "id": "9a243098",
   "metadata": {},
   "source": [
    "<div style=\"background-color: #E3F9A6; color: #551A8B;\">  \n",
    "  \n",
    "<span style='font-family:verdana;'>\n",
    "    \n",
    "## Elementos de Python básicos y formas de programar a tener en cuenta     \n",
    "\n",
    "   \n",
    "1. [Listas](#M1)    \n",
    "    \n",
    "2. [Tuplas](#M2)    \n",
    "    \n",
    "3. [Set](#M3)    \n",
    "    \n",
    "4. [Dictionary](#M4)\n",
    "    \n",
    "5. [Loops](#M5)    \n",
    "    \n",
    "6. [Range](#M6)    \n",
    "\n",
    "7. [Zip](#M7)    \n",
    "    \n",
    "8. [Functions](#M8)    \n",
    "    \n",
    "9. [Lambda](#M9)    \n",
    "    \n",
    "10. [Enum](#M10) \n",
    "    \n",
    "11. [Regex](#M11)    \n",
    "    \n",
    "12. [Otros](#M12)    \n",
    "    \n",
    "</span>\n",
    "\n",
    "</div>"
   ]
  },
  {
   "cell_type": "markdown",
   "id": "e1cd1215",
   "metadata": {},
   "source": [
    "<div style=\"background-color: #E3F9A6; color: #551A8B;\">  \n",
    "  \n",
    "<span style='font-family:verdana;'>\n",
    "    \n",
    "## <a name=\"M1\">LISTAS</a>"
   ]
  },
  {
   "cell_type": "code",
   "execution_count": 9,
   "id": "92544236",
   "metadata": {},
   "outputs": [],
   "source": [
    "ejemplo_lista = ['hola', 33, [3.7, True]]"
   ]
  },
  {
   "cell_type": "code",
   "execution_count": 33,
   "id": "f5d49692",
   "metadata": {},
   "outputs": [
    {
     "data": {
      "text/plain": [
       "'enero'"
      ]
     },
     "execution_count": 33,
     "metadata": {},
     "output_type": "execute_result"
    }
   ],
   "source": [
    "meses = ['enero','febrero','marzo','abril','mayo','junio','julio',\\\n",
    "         'agosto','septiembre','octubre', \\\n",
    "           'noviembre', 'diciembre']\n",
    "meses[0]\n"
   ]
  },
  {
   "cell_type": "code",
   "execution_count": 17,
   "id": "3b63eb27",
   "metadata": {},
   "outputs": [
    {
     "data": {
      "text/plain": [
       "'diciembre'"
      ]
     },
     "execution_count": 17,
     "metadata": {},
     "output_type": "execute_result"
    }
   ],
   "source": [
    "meses[-1]"
   ]
  },
  {
   "cell_type": "code",
   "execution_count": 19,
   "id": "428191ca",
   "metadata": {},
   "outputs": [
    {
     "data": {
      "text/plain": [
       "['julio', 'agosto', 'septiembre']"
      ]
     },
     "execution_count": 19,
     "metadata": {},
     "output_type": "execute_result"
    }
   ],
   "source": [
    "tercer_trimestre = meses[6:9]\n",
    "tercer_trimestre"
   ]
  },
  {
   "cell_type": "code",
   "execution_count": 20,
   "id": "25ef4fb3",
   "metadata": {},
   "outputs": [
    {
     "data": {
      "text/plain": [
       "('qué', ['dos'])"
      ]
     },
     "execution_count": 20,
     "metadata": {},
     "output_type": "execute_result"
    }
   ],
   "source": [
    "saludo = \"Hola, qué tal?\"\n",
    "numeros = ['uno','dos','tres','cuatro']\n",
    "\n",
    "saludo[6:9], numeros[1:2]"
   ]
  },
  {
   "cell_type": "code",
   "execution_count": 21,
   "id": "93b4e830",
   "metadata": {},
   "outputs": [
    {
     "data": {
      "text/plain": [
       "False"
      ]
     },
     "execution_count": 21,
     "metadata": {},
     "output_type": "execute_result"
    }
   ],
   "source": [
    "'palabraaa' in meses"
   ]
  },
  {
   "cell_type": "code",
   "execution_count": 22,
   "id": "89cef6d5",
   "metadata": {},
   "outputs": [
    {
     "data": {
      "text/plain": [
       "True"
      ]
     },
     "execution_count": 22,
     "metadata": {},
     "output_type": "execute_result"
    }
   ],
   "source": [
    "'julio' in meses"
   ]
  },
  {
   "cell_type": "markdown",
   "id": "2ba91c10",
   "metadata": {},
   "source": [
    "LAS LISTAS SON MUTABLES (si cambio en uno, cambio en todos)"
   ]
  },
  {
   "cell_type": "code",
   "execution_count": 23,
   "id": "3db7a75b",
   "metadata": {},
   "outputs": [
    {
     "data": {
      "text/plain": [
       "['a', 'B', 'c']"
      ]
     },
     "execution_count": 23,
     "metadata": {},
     "output_type": "execute_result"
    }
   ],
   "source": [
    "lista1 = ['a','b','c']\n",
    "lista2 = lista1\n",
    "lista1[1] = 'B'\n",
    "lista2"
   ]
  },
  {
   "cell_type": "markdown",
   "id": "51548534",
   "metadata": {},
   "source": [
    "Al contrario que por ejemplo los strings: "
   ]
  },
  {
   "cell_type": "code",
   "execution_count": 24,
   "id": "8c727773",
   "metadata": {},
   "outputs": [
    {
     "data": {
      "text/plain": [
       "'a'"
      ]
     },
     "execution_count": 24,
     "metadata": {},
     "output_type": "execute_result"
    }
   ],
   "source": [
    "a = 'a'\n",
    "a1 = 'a'\n",
    "a2 = a1\n",
    "a1 = 'A'\n",
    "a2"
   ]
  },
  {
   "cell_type": "code",
   "execution_count": 25,
   "id": "e8769dd8",
   "metadata": {},
   "outputs": [
    {
     "data": {
      "text/plain": [
       "78"
      ]
     },
     "execution_count": 25,
     "metadata": {},
     "output_type": "execute_result"
    }
   ],
   "source": [
    "lista_numero = [1,34,35,78,2]\n",
    "max(lista_numero)"
   ]
  },
  {
   "cell_type": "code",
   "execution_count": 26,
   "id": "8e8bb634",
   "metadata": {},
   "outputs": [
    {
     "data": {
      "text/plain": [
       "'ultimo'"
      ]
     },
     "execution_count": 26,
     "metadata": {},
     "output_type": "execute_result"
    }
   ],
   "source": [
    "lista_letras = ['hola','esto','ultimo','posterior']\n",
    "max(lista_letras)"
   ]
  },
  {
   "cell_type": "code",
   "execution_count": 28,
   "id": "32262668",
   "metadata": {},
   "outputs": [
    {
     "data": {
      "text/plain": [
       "[1, 2, 34, 35, 78]"
      ]
     },
     "execution_count": 28,
     "metadata": {},
     "output_type": "execute_result"
    }
   ],
   "source": [
    "sorted(lista_numero)"
   ]
  },
  {
   "cell_type": "code",
   "execution_count": 29,
   "id": "4ac80c75",
   "metadata": {},
   "outputs": [
    {
     "data": {
      "text/plain": [
       "['ultimo', 'posterior', 'hola', 'esto']"
      ]
     },
     "execution_count": 29,
     "metadata": {},
     "output_type": "execute_result"
    }
   ],
   "source": [
    "sorted(lista_letras, reverse = True)"
   ]
  },
  {
   "cell_type": "code",
   "execution_count": 34,
   "id": "c483e806",
   "metadata": {},
   "outputs": [
    {
     "data": {
      "text/plain": [
       "['enero',\n",
       " 'febrero',\n",
       " 'marzo',\n",
       " 'abril',\n",
       " 'mayo',\n",
       " 'junio',\n",
       " 'julio',\n",
       " 'agosto',\n",
       " 'septiembre',\n",
       " 'octubre',\n",
       " 'noviembre',\n",
       " 'diciembre',\n",
       " 'otro mes nuevo']"
      ]
     },
     "execution_count": 34,
     "metadata": {},
     "output_type": "execute_result"
    }
   ],
   "source": [
    "meses.append('otro mes nuevo')\n",
    "meses"
   ]
  },
  {
   "cell_type": "code",
   "execution_count": 36,
   "id": "7ad1f433",
   "metadata": {},
   "outputs": [
    {
     "data": {
      "text/plain": [
       "'enero/nfebrero/nmarzo/nabril/nmayo/njunio/njulio/nagosto/nseptiembre/noctubre/nnoviembre/ndiciembre/notro mes nuevo'"
      ]
     },
     "execution_count": 36,
     "metadata": {},
     "output_type": "execute_result"
    }
   ],
   "source": [
    "\"/n\".join(meses)"
   ]
  },
  {
   "cell_type": "markdown",
   "id": "07d1a36a",
   "metadata": {},
   "source": [
    "<div style=\"background-color: #E3F9A6; color: #551A8B;\">  \n",
    "  \n",
    "<span style='font-family:verdana;'>\n",
    "\n",
    "## <a name=\"M2\">TUPLAS</a>"
   ]
  },
  {
   "cell_type": "markdown",
   "id": "4ebc0a53",
   "metadata": {},
   "source": [
    "TUPLAS Son NO mutables"
   ]
  },
  {
   "cell_type": "code",
   "execution_count": 1,
   "id": "65e2f9b1",
   "metadata": {},
   "outputs": [
    {
     "data": {
      "text/plain": [
       "'la latitud es: 14.234'"
      ]
     },
     "execution_count": 1,
     "metadata": {},
     "output_type": "execute_result"
    }
   ],
   "source": [
    "coordenadas = (14.234, 338,388)\n",
    "\"la latitud es: {}\".format(coordenadas[0])"
   ]
  },
  {
   "cell_type": "markdown",
   "id": "5ef45598",
   "metadata": {},
   "source": [
    "<div style=\"background-color: #E3F9A6; color: #551A8B;\">  \n",
    "  \n",
    "<span style='font-family:verdana;'>\n",
    "\n",
    "## <a name=\"M3\">SET</a>"
   ]
  },
  {
   "cell_type": "markdown",
   "id": "5ccbce07",
   "metadata": {},
   "source": [
    "Mutable, sin ordenar y UNICOS (quita duplicados)"
   ]
  },
  {
   "cell_type": "code",
   "execution_count": 2,
   "id": "bdb79bc7",
   "metadata": {},
   "outputs": [
    {
     "data": {
      "text/plain": [
       "{'cana', 'espa', 'usa'}"
      ]
     },
     "execution_count": 2,
     "metadata": {},
     "output_type": "execute_result"
    }
   ],
   "source": [
    "paises = ['espa','usa','cana','cana']\n",
    "paises_set= set(paises)\n",
    "paises_set"
   ]
  },
  {
   "cell_type": "code",
   "execution_count": 40,
   "id": "653f1743",
   "metadata": {},
   "outputs": [
    {
     "data": {
      "text/plain": [
       "{'cana', 'espa', 'fra', 'usa'}"
      ]
     },
     "execution_count": 40,
     "metadata": {},
     "output_type": "execute_result"
    }
   ],
   "source": [
    "paises_set.add('fra')\n",
    "paises_set"
   ]
  },
  {
   "cell_type": "markdown",
   "id": "cab53e0c",
   "metadata": {},
   "source": [
    "<div style=\"background-color: #E3F9A6; color: #551A8B;\">  \n",
    "  \n",
    "<span style='font-family:verdana;'>\n",
    "\n",
    "## <a name=\"M4\">DICTIONARY</a>"
   ]
  },
  {
   "cell_type": "markdown",
   "id": "0e7a7767",
   "metadata": {},
   "source": [
    "Mutable, almacena mapeos de claves únicas a valor"
   ]
  },
  {
   "cell_type": "code",
   "execution_count": 41,
   "id": "82574606",
   "metadata": {},
   "outputs": [
    {
     "data": {
      "text/plain": [
       "6"
      ]
     },
     "execution_count": 41,
     "metadata": {},
     "output_type": "execute_result"
    }
   ],
   "source": [
    "elementos = {'hidrogeno': 1, 'carbon': 6}\n",
    "elementos['carbon']"
   ]
  },
  {
   "cell_type": "code",
   "execution_count": 42,
   "id": "f9674058",
   "metadata": {},
   "outputs": [
    {
     "data": {
      "text/plain": [
       "{'hidrogeno': 1, 'carbon': 6, 'helio': 2}"
      ]
     },
     "execution_count": 42,
     "metadata": {},
     "output_type": "execute_result"
    }
   ],
   "source": [
    "elementos['helio'] = 2\n",
    "elementos"
   ]
  },
  {
   "cell_type": "code",
   "execution_count": 43,
   "id": "beeb7e9d",
   "metadata": {},
   "outputs": [
    {
     "data": {
      "text/plain": [
       "False"
      ]
     },
     "execution_count": 43,
     "metadata": {},
     "output_type": "execute_result"
    }
   ],
   "source": [
    "'oxigeno' in elementos"
   ]
  },
  {
   "cell_type": "code",
   "execution_count": 45,
   "id": "9626242d",
   "metadata": {},
   "outputs": [],
   "source": [
    "elementos.get('oxigeno')"
   ]
  },
  {
   "cell_type": "code",
   "execution_count": 46,
   "id": "39095f3a",
   "metadata": {},
   "outputs": [
    {
     "data": {
      "text/plain": [
       "1"
      ]
     },
     "execution_count": 46,
     "metadata": {},
     "output_type": "execute_result"
    }
   ],
   "source": [
    "elementos.get('hidrogeno')"
   ]
  },
  {
   "cell_type": "code",
   "execution_count": 47,
   "id": "29d29073",
   "metadata": {},
   "outputs": [
    {
     "data": {
      "text/plain": [
       "{'numero': 2, 'peso': 4.002602, 'simbolo': 'He'}"
      ]
     },
     "execution_count": 47,
     "metadata": {},
     "output_type": "execute_result"
    }
   ],
   "source": [
    "eles = {'hidrogeno': {'numero': 1,\n",
    "                      'peso': 1.00794,\n",
    "                      'simbolo': 'H'},\n",
    "        'helio': {'numero': 2,\n",
    "                  'peso': 4.002602,\n",
    "                  'simbolo': 'He'}}\n",
    "\n",
    "\n",
    "eles['helio']\n"
   ]
  },
  {
   "cell_type": "code",
   "execution_count": 48,
   "id": "89c236c6",
   "metadata": {},
   "outputs": [
    {
     "data": {
      "text/plain": [
       "{'numero': 1, 'peso': 1.00794, 'simbolo': 'H'}"
      ]
     },
     "execution_count": 48,
     "metadata": {},
     "output_type": "execute_result"
    }
   ],
   "source": [
    "eles.get('hidrogeno')"
   ]
  },
  {
   "cell_type": "code",
   "execution_count": 49,
   "id": "7022239a",
   "metadata": {},
   "outputs": [
    {
     "data": {
      "text/plain": [
       "4.002602"
      ]
     },
     "execution_count": 49,
     "metadata": {},
     "output_type": "execute_result"
    }
   ],
   "source": [
    "eles['helio']['peso']"
   ]
  },
  {
   "cell_type": "code",
   "execution_count": null,
   "id": "d18e953d",
   "metadata": {},
   "outputs": [],
   "source": []
  },
  {
   "cell_type": "markdown",
   "id": "c75534ce",
   "metadata": {},
   "source": [
    "<div style=\"background-color: #E3F9A6; color: #551A8B;\">  \n",
    "  \n",
    "<span style='font-family:verdana;'>\n",
    "\n",
    "## <a name=\"M5\">LOOPS</a>"
   ]
  },
  {
   "cell_type": "code",
   "execution_count": 1,
   "id": "3d3aa005",
   "metadata": {},
   "outputs": [
    {
     "name": "stdout",
     "output_type": "stream",
     "text": [
      "Toledo\n",
      "Alicante\n",
      "Lugo\n",
      "Huelva\n"
     ]
    }
   ],
   "source": [
    "ciudades = ['toledo', 'alicante', 'lugo', 'huelva']\n",
    "for ciudad in ciudades:\n",
    "  print(ciudad.title())"
   ]
  },
  {
   "cell_type": "code",
   "execution_count": 2,
   "id": "ce2f7ead",
   "metadata": {},
   "outputs": [
    {
     "data": {
      "text/plain": [
       "['TOLEDO', 'ALICANTE', 'LUGO', 'HUELVA']"
      ]
     },
     "execution_count": 2,
     "metadata": {},
     "output_type": "execute_result"
    }
   ],
   "source": [
    "ciudades_mayusculas = []\n",
    "for ciudad in ciudades:\n",
    "  ciudades_mayusculas.append(ciudad.upper())\n",
    "ciudades_mayusculas\n"
   ]
  },
  {
   "cell_type": "code",
   "execution_count": 3,
   "id": "e04c2daa",
   "metadata": {},
   "outputs": [
    {
     "name": "stdout",
     "output_type": "stream",
     "text": [
      "[9, 3, 4, 7]\n"
     ]
    }
   ],
   "source": [
    "cartas_baraja = [1,10,8,12,11,2,6,5,7,4,3,9]\n",
    "mi_partida = []\n",
    "while sum(mi_partida) <= 21:\n",
    "        mi_partida.append(cartas_baraja.pop())\n",
    "print(mi_partida)"
   ]
  },
  {
   "cell_type": "markdown",
   "id": "3496a63a",
   "metadata": {},
   "source": [
    "(pop empieza en orden por el final...)"
   ]
  },
  {
   "cell_type": "code",
   "execution_count": 10,
   "id": "ac7701fc",
   "metadata": {},
   "outputs": [
    {
     "data": {
      "text/plain": [
       "['platanos', 'manzanas', 'peras', 'limones']"
      ]
     },
     "execution_count": 10,
     "metadata": {},
     "output_type": "execute_result"
    }
   ],
   "source": [
    "albaran = [(\"platanos\", 15), (\"manzanas\", 20), (\"peras\", 30), (\"limones\", 10)]\n",
    "articulos = []\n",
    "precio = 0\n",
    "for carga in albaran:\n",
    "   if precio >= 100:\n",
    "       break\n",
    "   else:\n",
    "       articulos.append(carga[0])\n",
    "       precio += carga[1]\n",
    "\n",
    "articulos"
   ]
  },
  {
   "cell_type": "code",
   "execution_count": 11,
   "id": "8cf56dc5",
   "metadata": {},
   "outputs": [
    {
     "data": {
      "text/plain": [
       "75"
      ]
     },
     "execution_count": 11,
     "metadata": {},
     "output_type": "execute_result"
    }
   ],
   "source": [
    "precio"
   ]
  },
  {
   "cell_type": "markdown",
   "id": "81fdae87",
   "metadata": {},
   "source": [
    "FOR EN UN PASO LIST COMPREHENSIONS"
   ]
  },
  {
   "cell_type": "code",
   "execution_count": 12,
   "id": "19faaf1f",
   "metadata": {},
   "outputs": [
    {
     "data": {
      "text/plain": [
       "['Madrid', 'Nueva York', 'Alicante']"
      ]
     },
     "execution_count": 12,
     "metadata": {},
     "output_type": "execute_result"
    }
   ],
   "source": [
    "ciudades = ['madrid', 'nueva york', 'alicante']\n",
    "ciudades_mayusculas = [ciudad.title() for ciudad in ciudades]\n",
    "ciudades_mayusculas"
   ]
  },
  {
   "cell_type": "code",
   "execution_count": 78,
   "id": "d1f57a87",
   "metadata": {},
   "outputs": [
    {
     "data": {
      "text/plain": [
       "[0, 1, 4, 9, 16, 25, 36, 49, 64]"
      ]
     },
     "execution_count": 78,
     "metadata": {},
     "output_type": "execute_result"
    }
   ],
   "source": [
    "cuadrados = []\n",
    "for x in range(9):\n",
    " cuadrados.append(x**2)\n",
    "\n",
    "cuadrados"
   ]
  },
  {
   "cell_type": "markdown",
   "id": "db723aac",
   "metadata": {},
   "source": [
    "Haciendo de esta forma sería:"
   ]
  },
  {
   "cell_type": "code",
   "execution_count": 79,
   "id": "55c6f771",
   "metadata": {},
   "outputs": [
    {
     "data": {
      "text/plain": [
       "[0, 1, 4, 9, 16, 25, 36, 49, 64]"
      ]
     },
     "execution_count": 79,
     "metadata": {},
     "output_type": "execute_result"
    }
   ],
   "source": [
    "loscuadrados = [x**2 for x in range(9)]\n",
    "loscuadrados"
   ]
  },
  {
   "cell_type": "code",
   "execution_count": 80,
   "id": "7b80717f",
   "metadata": {},
   "outputs": [
    {
     "data": {
      "text/plain": [
       "[0, 4, 16, 36, 64]"
      ]
     },
     "execution_count": 80,
     "metadata": {},
     "output_type": "execute_result"
    }
   ],
   "source": [
    "loscuadrados_pares = [x**2 for x in range(9) if x % 2 == 0]\n",
    "loscuadrados_pares"
   ]
  },
  {
   "cell_type": "code",
   "execution_count": 13,
   "id": "91b79d49",
   "metadata": {},
   "outputs": [
    {
     "data": {
      "text/plain": [
       "[0, 'no es par', 4, 'no es par', 16, 'no es par', 36, 'no es par', 64]"
      ]
     },
     "execution_count": 13,
     "metadata": {},
     "output_type": "execute_result"
    }
   ],
   "source": [
    "loscuadrados_pares_noimpares = [x**2 if x % 2 == 0 else \"no es par\" for x in range(9)]\n",
    "loscuadrados_pares_noimpares"
   ]
  },
  {
   "cell_type": "markdown",
   "id": "10e7e92e",
   "metadata": {},
   "source": [
    "<div style=\"background-color: #E3F9A6; color: #551A8B;\">  \n",
    "  \n",
    "<span style='font-family:verdana;'>\n",
    "\n",
    "## <a name=\"M6\">RANGE</a>"
   ]
  },
  {
   "cell_type": "markdown",
   "id": "b60a4e7d",
   "metadata": {},
   "source": [
    "Range(start, stop, step)"
   ]
  },
  {
   "cell_type": "code",
   "execution_count": 59,
   "id": "bdf4b1cd",
   "metadata": {},
   "outputs": [
    {
     "name": "stdout",
     "output_type": "stream",
     "text": [
      "[0, 1, 2, 3]\n"
     ]
    }
   ],
   "source": [
    "print(list(range(4)))"
   ]
  },
  {
   "cell_type": "code",
   "execution_count": 60,
   "id": "7791264e",
   "metadata": {},
   "outputs": [
    {
     "name": "stdout",
     "output_type": "stream",
     "text": [
      "[10, 12, 14, 16, 18]\n"
     ]
    }
   ],
   "source": [
    "print(list(range(10, 20, 2)))"
   ]
  },
  {
   "cell_type": "code",
   "execution_count": 61,
   "id": "36e940c6",
   "metadata": {},
   "outputs": [
    {
     "name": "stdout",
     "output_type": "stream",
     "text": [
      "[3, 4, 5, 6, 7]\n"
     ]
    }
   ],
   "source": [
    "print(list(range(3,8)))"
   ]
  },
  {
   "cell_type": "code",
   "execution_count": 62,
   "id": "15454fad",
   "metadata": {},
   "outputs": [
    {
     "data": {
      "text/plain": [
       "range(0, 4)"
      ]
     },
     "execution_count": 62,
     "metadata": {},
     "output_type": "execute_result"
    }
   ],
   "source": [
    "range(4)"
   ]
  },
  {
   "cell_type": "markdown",
   "id": "970d278b",
   "metadata": {},
   "source": [
    "range(0, 4) solo saca el obj\n",
    "\n",
    "para verlo, o lo iteramos o lo pasamos a lista"
   ]
  },
  {
   "cell_type": "code",
   "execution_count": 64,
   "id": "07d1f639",
   "metadata": {},
   "outputs": [
    {
     "name": "stdout",
     "output_type": "stream",
     "text": [
      "0\n",
      "1\n",
      "2\n",
      "3\n"
     ]
    }
   ],
   "source": [
    "for numero in range(4):\n",
    "  print(numero)"
   ]
  },
  {
   "cell_type": "code",
   "execution_count": 122,
   "id": "d91028f4",
   "metadata": {},
   "outputs": [
    {
     "name": "stdout",
     "output_type": "stream",
     "text": [
      "10\n",
      "11\n",
      "12\n",
      "13\n",
      "14\n"
     ]
    }
   ],
   "source": [
    "for numeroI in range(10,15):\n",
    "    print(numeroI)"
   ]
  },
  {
   "cell_type": "code",
   "execution_count": 65,
   "id": "aeb61815",
   "metadata": {},
   "outputs": [
    {
     "data": {
      "text/plain": [
       "['Madrid', 'Barcelona', 'Valencia', 'Bilbao']"
      ]
     },
     "execution_count": 65,
     "metadata": {},
     "output_type": "execute_result"
    }
   ],
   "source": [
    "ciudades = ['madrid', 'barcelona', 'valencia', 'bilbao']\n",
    "for indice in range(len(ciudades)):\n",
    "  ciudades[indice] = ciudades[indice].title()\n",
    "ciudades\n"
   ]
  },
  {
   "cell_type": "code",
   "execution_count": 67,
   "id": "c3648752",
   "metadata": {},
   "outputs": [
    {
     "name": "stdout",
     "output_type": "stream",
     "text": [
      "hola\n",
      "hola\n",
      "hola\n"
     ]
    }
   ],
   "source": [
    "for i in range(3):\n",
    "  print(\"hola\")"
   ]
  },
  {
   "cell_type": "code",
   "execution_count": null,
   "id": "dac64e74",
   "metadata": {},
   "outputs": [],
   "source": []
  },
  {
   "cell_type": "markdown",
   "id": "f9a4bb16",
   "metadata": {},
   "source": [
    "<div style=\"background-color: #E3F9A6; color: #551A8B;\">  \n",
    "  \n",
    "<span style='font-family:verdana;'>\n",
    "\n",
    "## <a name=\"M7\">ZIP</a>"
   ]
  },
  {
   "cell_type": "markdown",
   "id": "ef44927d",
   "metadata": {},
   "source": [
    "ZIP devuelve un iterator que combina múltiples iterables en una sentencia de tuplas."
   ]
  },
  {
   "cell_type": "code",
   "execution_count": 71,
   "id": "ede1378a",
   "metadata": {},
   "outputs": [
    {
     "name": "stdout",
     "output_type": "stream",
     "text": [
      "[('platano', 19), ('manzana', 34), ('peras', 10)]\n"
     ]
    }
   ],
   "source": [
    "articulos = ['platano', 'manzana', 'peras']\n",
    "pesos = [19, 34, 10]\n",
    "print(list(zip(articulos, pesos)))"
   ]
  },
  {
   "cell_type": "code",
   "execution_count": 72,
   "id": "a631d984",
   "metadata": {},
   "outputs": [
    {
     "data": {
      "text/plain": [
       "('platano', 'manzana', 'peras')"
      ]
     },
     "execution_count": 72,
     "metadata": {},
     "output_type": "execute_result"
    }
   ],
   "source": [
    "mi_conjunto = list(zip(articulos, pesos))\n",
    "suelto_articulos, suelto_pesos = zip(*mi_conjunto)\n",
    "suelto_articulos"
   ]
  },
  {
   "cell_type": "code",
   "execution_count": 73,
   "id": "a99557d9",
   "metadata": {},
   "outputs": [
    {
     "data": {
      "text/plain": [
       "(19, 34, 10)"
      ]
     },
     "execution_count": 73,
     "metadata": {},
     "output_type": "execute_result"
    }
   ],
   "source": [
    "suelto_pesos"
   ]
  },
  {
   "cell_type": "code",
   "execution_count": 74,
   "id": "67c04408",
   "metadata": {},
   "outputs": [
    {
     "name": "stdout",
     "output_type": "stream",
     "text": [
      "0 platano\n",
      "1 manzana\n",
      "2 peras\n"
     ]
    }
   ],
   "source": [
    "articulos = ['platano', 'manzana', 'peras']\n",
    "for i, articulos in zip(range(len(articulos)), articulos):\n",
    "  print(i, articulos)"
   ]
  },
  {
   "cell_type": "markdown",
   "id": "181ccdb7",
   "metadata": {},
   "source": [
    "<div style=\"background-color: #E3F9A6; color: #551A8B;\">  \n",
    "  \n",
    "<span style='font-family:verdana;'>\n",
    "\n",
    "## <a name=\"M8\">FUNCTIONS</a>"
   ]
  },
  {
   "cell_type": "code",
   "execution_count": 116,
   "id": "55473b58",
   "metadata": {},
   "outputs": [],
   "source": [
    "def masUnoExcep(a):\n",
    "    try:\n",
    "        b = a + 1\n",
    "        print(b)\n",
    "        return b\n",
    "    except:\n",
    "        print('Debe ser valor numerico')\n",
    "        return None    "
   ]
  },
  {
   "cell_type": "code",
   "execution_count": 117,
   "id": "fd16ad7d",
   "metadata": {},
   "outputs": [
    {
     "name": "stdout",
     "output_type": "stream",
     "text": [
      "Debe ser valor numerico\n"
     ]
    }
   ],
   "source": [
    "masUnoExcep('qwerqer')"
   ]
  },
  {
   "cell_type": "code",
   "execution_count": 118,
   "id": "39869633",
   "metadata": {},
   "outputs": [
    {
     "name": "stdout",
     "output_type": "stream",
     "text": [
      "4\n"
     ]
    },
    {
     "data": {
      "text/plain": [
       "4"
      ]
     },
     "execution_count": 118,
     "metadata": {},
     "output_type": "execute_result"
    }
   ],
   "source": [
    "masUnoExcep(3)"
   ]
  },
  {
   "cell_type": "code",
   "execution_count": 82,
   "id": "541fe067",
   "metadata": {},
   "outputs": [
    {
     "data": {
      "text/plain": [
       "282.7431"
      ]
     },
     "execution_count": 82,
     "metadata": {},
     "output_type": "execute_result"
    }
   ],
   "source": [
    "def volumen_cilindro(altura, radio):\n",
    "  pi = 3.14159\n",
    "  return altura * pi * radio ** 2\n",
    "\n",
    "volumen_cilindro(10, 3)"
   ]
  },
  {
   "cell_type": "code",
   "execution_count": 88,
   "id": "a9654596",
   "metadata": {},
   "outputs": [
    {
     "name": "stdout",
     "output_type": "stream",
     "text": [
      "ni return ni parametros\n"
     ]
    }
   ],
   "source": [
    "def escribe_algo():\n",
    "  print(\"ni return ni parametros\")\n",
    "\n",
    "escribe_algo()"
   ]
  },
  {
   "cell_type": "code",
   "execution_count": 89,
   "id": "a74b5a1e",
   "metadata": {},
   "outputs": [
    {
     "data": {
      "text/plain": [
       "6"
      ]
     },
     "execution_count": 89,
     "metadata": {},
     "output_type": "execute_result"
    }
   ],
   "source": [
    "def rectangulo(base, altura = 2):\n",
    "  area = base * altura\n",
    "  return area\n",
    "\n",
    "rectangulo(3)"
   ]
  },
  {
   "cell_type": "code",
   "execution_count": 90,
   "id": "2b41a310",
   "metadata": {},
   "outputs": [
    {
     "data": {
      "text/plain": [
       "3"
      ]
     },
     "execution_count": 90,
     "metadata": {},
     "output_type": "execute_result"
    }
   ],
   "source": [
    "rectangulo(3,1)"
   ]
  },
  {
   "cell_type": "code",
   "execution_count": 92,
   "id": "351025b4",
   "metadata": {},
   "outputs": [
    {
     "data": {
      "text/plain": [
       "1.0"
      ]
     },
     "execution_count": 92,
     "metadata": {},
     "output_type": "execute_result"
    }
   ],
   "source": [
    "def fun_con_comentario(a,b):\n",
    "  \"\"\"aqui escribo el comentario\n",
    "  todo lo largo que sea\"\"\"\n",
    "  return a/b\n",
    "\n",
    "fun_con_comentario(2,2)"
   ]
  },
  {
   "cell_type": "code",
   "execution_count": null,
   "id": "6b28f6b3",
   "metadata": {},
   "outputs": [],
   "source": []
  },
  {
   "cell_type": "markdown",
   "id": "ec03fb51",
   "metadata": {},
   "source": [
    "<div style=\"background-color: #E3F9A6; color: #551A8B;\">  \n",
    "  \n",
    "<span style='font-family:verdana;'>\n",
    "\n",
    "## <a name=\"M9\">LAMBDA</a>"
   ]
  },
  {
   "cell_type": "markdown",
   "id": "63726888",
   "metadata": {},
   "source": [
    "funciones anónimas, sin nombre"
   ]
  },
  {
   "cell_type": "code",
   "execution_count": 93,
   "id": "16561ccf",
   "metadata": {},
   "outputs": [],
   "source": [
    "def doble(x):\n",
    "  return x * 2"
   ]
  },
  {
   "cell_type": "markdown",
   "id": "0625ec25",
   "metadata": {},
   "source": [
    "En lambda es:"
   ]
  },
  {
   "cell_type": "code",
   "execution_count": 94,
   "id": "f97b94f6",
   "metadata": {},
   "outputs": [
    {
     "data": {
      "text/plain": [
       "14"
      ]
     },
     "execution_count": 94,
     "metadata": {},
     "output_type": "execute_result"
    }
   ],
   "source": [
    "doble_lambda = lambda x: x * 2\n",
    "doble_lambda(7)"
   ]
  },
  {
   "cell_type": "code",
   "execution_count": 95,
   "id": "0db9bdfe",
   "metadata": {},
   "outputs": [],
   "source": [
    "mas_lambda = lambda x,y,z: x * y * z"
   ]
  },
  {
   "cell_type": "code",
   "execution_count": null,
   "id": "b721922e",
   "metadata": {},
   "outputs": [],
   "source": []
  },
  {
   "cell_type": "markdown",
   "id": "3ce41435",
   "metadata": {},
   "source": [
    "<div style=\"background-color: #E3F9A6; color: #551A8B;\">  \n",
    "  \n",
    "<span style='font-family:verdana;'>\n",
    "\n",
    "## <a name=\"M10\">ENUM</a>"
   ]
  },
  {
   "cell_type": "code",
   "execution_count": 114,
   "id": "63149d90",
   "metadata": {},
   "outputs": [
    {
     "name": "stdout",
     "output_type": "stream",
     "text": [
      "0 rojo\n",
      "1 verde\n",
      "2 azul\n"
     ]
    }
   ],
   "source": [
    "colores = ['rojo','verde','azul']\n",
    "\n",
    "for i, colores in enumerate(colores):\n",
    "    print(i,colores)"
   ]
  },
  {
   "cell_type": "code",
   "execution_count": 76,
   "id": "7590ba9c",
   "metadata": {},
   "outputs": [
    {
     "name": "stdout",
     "output_type": "stream",
     "text": [
      "0 platano\n",
      "1 manzana\n",
      "2 peras\n"
     ]
    }
   ],
   "source": [
    "articulos = ['platano', 'manzana', 'peras']\n",
    "for i, item in enumerate(articulos):\n",
    "  print(i, item)"
   ]
  },
  {
   "cell_type": "markdown",
   "id": "af2f9c80",
   "metadata": {},
   "source": [
    "<div style=\"background-color: #E3F9A6; color: #551A8B;\">  \n",
    "  \n",
    "<span style='font-family:verdana;'>\n",
    "\n",
    "## <a name=\"M11\">REGEX</a>"
   ]
  },
  {
   "cell_type": "markdown",
   "id": "b738b19d",
   "metadata": {},
   "source": [
    "https://es.wikipedia.org/wiki/Expresi%C3%B3n_regular\n",
    "    \n",
    "https://regex101.com/    "
   ]
  },
  {
   "cell_type": "markdown",
   "id": "23c4f42a",
   "metadata": {},
   "source": [
    "Ejemplo: Numbers [0-9]+ or \\d+\n",
    "\n",
    "If the input is \"abc123xyz\", it matches substring \"123\".\n",
    "\n",
    "If the input is \"abcxyz\", it matches nothing.\n",
    "\n",
    "If the input is \"abc00123xyz456_0\", it matches substrings \"00123\", \"456\" and \"0\" (three matches).\n",
    "\n",
    "Take note that this regex matches number with leading zeros, such as \"000\", \"0123\" and \"0001\", which may not be desirable."
   ]
  },
  {
   "cell_type": "markdown",
   "id": "0a6a74d6",
   "metadata": {},
   "source": [
    "<div style=\"background-color: #E3F9A6; color: #551A8B;\">  \n",
    "  \n",
    "<span style='font-family:verdana;'>\n",
    "\n",
    "## <a name=\"M12\">OTROS</a>"
   ]
  },
  {
   "cell_type": "raw",
   "id": "b3d30cf0",
   "metadata": {},
   "source": [
    "^  --> caret --> bitwise XOR\n",
    "%  --> módulo\n",
    "// --> integer división\n",
    "** --> exponente"
   ]
  },
  {
   "cell_type": "raw",
   "id": "546b1503",
   "metadata": {},
   "source": [
    "type(lo_que_sea)"
   ]
  },
  {
   "cell_type": "code",
   "execution_count": 10,
   "id": "75f5f105",
   "metadata": {},
   "outputs": [
    {
     "data": {
      "text/plain": [
       "'3'"
      ]
     },
     "execution_count": 10,
     "metadata": {},
     "output_type": "execute_result"
    }
   ],
   "source": [
    "str(3)"
   ]
  },
  {
   "cell_type": "code",
   "execution_count": 13,
   "id": "51b63c6b",
   "metadata": {},
   "outputs": [
    {
     "data": {
      "text/plain": [
       "2"
      ]
     },
     "execution_count": 13,
     "metadata": {},
     "output_type": "execute_result"
    }
   ],
   "source": [
    "'uno, uno, dos'.count('uno')"
   ]
  },
  {
   "cell_type": "code",
   "execution_count": 50,
   "id": "5ec7a3bc",
   "metadata": {},
   "outputs": [
    {
     "name": "stdout",
     "output_type": "stream",
     "text": [
      "3 100\n"
     ]
    }
   ],
   "source": [
    "phone = 3\n",
    "banco = 100\n",
    "print(phone, banco)"
   ]
  },
  {
   "cell_type": "code",
   "execution_count": 51,
   "id": "f3b058af",
   "metadata": {},
   "outputs": [
    {
     "name": "stdout",
     "output_type": "stream",
     "text": [
      "13 90\n"
     ]
    }
   ],
   "source": [
    "if phone < 5:\n",
    "  phone += 10\n",
    "  banco -= 10\n",
    "\n",
    "print (phone, banco)"
   ]
  },
  {
   "cell_type": "code",
   "execution_count": 52,
   "id": "a7c5ab0d",
   "metadata": {},
   "outputs": [
    {
     "name": "stdout",
     "output_type": "stream",
     "text": [
      "1 es impar\n"
     ]
    }
   ],
   "source": [
    "n = 1\n",
    "if n % 2 == 0:\n",
    "  print(str(n) + \" es impar\")\n",
    "else:\n",
    "  print(str(n) + \" es impar\")"
   ]
  },
  {
   "cell_type": "code",
   "execution_count": 53,
   "id": "551121c3",
   "metadata": {},
   "outputs": [],
   "source": [
    "estacion = \"primavera\"\n",
    "if estacion == \"primavera\":\n",
    "  \"tiempo bueno\"\n",
    "elif estacion == \"verano\":\n",
    "  \"a la playa\"\n",
    "elif estacion == \"otono\":\n",
    "  \"a estudiar\"\n",
    "else:\n",
    "  \"Navidad\""
   ]
  },
  {
   "cell_type": "code",
   "execution_count": 86,
   "id": "404ec28a",
   "metadata": {},
   "outputs": [
    {
     "name": "stdout",
     "output_type": "stream",
     "text": [
      "Escribe lo que sea\n"
     ]
    }
   ],
   "source": [
    "salida = print(\"Escribe lo que sea\")"
   ]
  },
  {
   "cell_type": "code",
   "execution_count": 87,
   "id": "8132503f",
   "metadata": {},
   "outputs": [
    {
     "name": "stdout",
     "output_type": "stream",
     "text": [
      "print no devuelve nada, mira!!:  None\n"
     ]
    }
   ],
   "source": [
    "print(\"print no devuelve nada, mira!!: \", salida)"
   ]
  },
  {
   "cell_type": "code",
   "execution_count": 96,
   "id": "94090b72",
   "metadata": {},
   "outputs": [
    {
     "name": "stdout",
     "output_type": "stream",
     "text": [
      "Escriba su nombre: yo\n",
      "Hola Yo\n"
     ]
    }
   ],
   "source": [
    "name = input('Escriba su nombre: ')\n",
    "print('Hola', name.title())"
   ]
  },
  {
   "cell_type": "code",
   "execution_count": 97,
   "id": "ba5d2415",
   "metadata": {},
   "outputs": [
    {
     "name": "stdout",
     "output_type": "stream",
     "text": [
      "Escriba un numero: 3\n",
      "23\n"
     ]
    }
   ],
   "source": [
    "numero = int(input('Escriba un numero: '))\n",
    "numero += 20\n",
    "print(numero)"
   ]
  },
  {
   "cell_type": "code",
   "execution_count": 98,
   "id": "961d338a",
   "metadata": {},
   "outputs": [
    {
     "name": "stdout",
     "output_type": "stream",
     "text": [
      "Escriba un numero: 2\n",
      "22.0\n"
     ]
    }
   ],
   "source": [
    "numero = float(input('Escriba un numero: '))\n",
    "numero += 20\n",
    "print(numero)"
   ]
  },
  {
   "cell_type": "code",
   "execution_count": 100,
   "id": "0919bae2",
   "metadata": {},
   "outputs": [
    {
     "name": "stdout",
     "output_type": "stream",
     "text": [
      "Escriba un numero: 4\n",
      "HolaHolaHolaHola\n"
     ]
    }
   ],
   "source": [
    "numero = int(input('Escriba un numero: '))\n",
    "print('Hola' * numero)"
   ]
  },
  {
   "cell_type": "code",
   "execution_count": 103,
   "id": "d15c5d76",
   "metadata": {},
   "outputs": [
    {
     "name": "stdout",
     "output_type": "stream",
     "text": [
      "Escriba una expresion: 1+1\n",
      "2\n"
     ]
    }
   ],
   "source": [
    "x = eval(input('Escriba una expresion: '))\n",
    "print(x)"
   ]
  },
  {
   "cell_type": "code",
   "execution_count": 102,
   "id": "44ced8ad",
   "metadata": {},
   "outputs": [
    {
     "name": "stdout",
     "output_type": "stream",
     "text": [
      "30\n"
     ]
    }
   ],
   "source": [
    "numero = 20\n",
    "x = eval('numero + 10')\n",
    "print(x)\n",
    "\n"
   ]
  },
  {
   "cell_type": "code",
   "execution_count": 104,
   "id": "13cee2e4",
   "metadata": {},
   "outputs": [
    {
     "name": "stdout",
     "output_type": "stream",
     "text": [
      "Escriba un numero: 1\n"
     ]
    }
   ],
   "source": [
    "try:\n",
    "    x = int(input('Escriba un numero: '))\n",
    "except:\n",
    "    print('Eso no es un numero')"
   ]
  },
  {
   "cell_type": "code",
   "execution_count": 105,
   "id": "ef9a9389",
   "metadata": {},
   "outputs": [
    {
     "name": "stdout",
     "output_type": "stream",
     "text": [
      "Escriba un numero: aaa\n",
      "Eso no es un numero\n"
     ]
    }
   ],
   "source": [
    "try:\n",
    "    x = int(input('Escriba un numero: '))\n",
    "except:\n",
    "    print('Eso no es un numero')"
   ]
  },
  {
   "cell_type": "code",
   "execution_count": 109,
   "id": "e99e3322",
   "metadata": {},
   "outputs": [
    {
     "name": "stdout",
     "output_type": "stream",
     "text": [
      "Escriba un numero: efafffadfae\n",
      "Eso no es un numero\n",
      "Esto se escribe porque esta en el finallly\n"
     ]
    }
   ],
   "source": [
    "try:\n",
    "    x = int(input('Escriba un numero: '))\n",
    "except:\n",
    "    print('Eso no es un numero')\n",
    "finally:\n",
    "    print('Esto se escribe porque esta en el finallly')"
   ]
  },
  {
   "cell_type": "code",
   "execution_count": 110,
   "id": "8f587258",
   "metadata": {},
   "outputs": [
    {
     "name": "stdout",
     "output_type": "stream",
     "text": [
      "Escriba un numero: 3\n",
      "Han cantado el 3\n",
      "Esto se escribe porque esta en el finallly\n"
     ]
    }
   ],
   "source": [
    "try:\n",
    "    x = int(input('Escriba un numero: '))\n",
    "    print('Han cantado el ' + str(x))\n",
    "except:\n",
    "    print('Eso no es un numero')\n",
    "finally:\n",
    "    print('Esto se escribe porque esta en el finallly')"
   ]
  },
  {
   "cell_type": "code",
   "execution_count": 111,
   "id": "b6c65101",
   "metadata": {},
   "outputs": [
    {
     "name": "stdout",
     "output_type": "stream",
     "text": [
      "Escriba un numero: \n",
      "Eso no es un numero\n",
      "Esto se escribe porque esta en el finallly\n"
     ]
    }
   ],
   "source": [
    "try:\n",
    "    x = int(input('Escriba un numero: '))\n",
    "    print('Han cantado el ' + str(x))\n",
    "except ValueError:\n",
    "    print('Eso no es un numero')\n",
    "except KeyboardInterrupt:\n",
    "    print('Hay errores en tu respuesta')\n",
    "finally:\n",
    "    print('Esto se escribe porque esta en el finallly')"
   ]
  },
  {
   "cell_type": "raw",
   "id": "9a450410",
   "metadata": {},
   "source": [
    "f = open('txtpruebas.txt', ‘r’)\n",
    "file_data = f.read()\n",
    "f.close()\n",
    "print(file_data)\n",
    "\n",
    "\n",
    "f = open('txtpruebas.txt', 'w')\n",
    "f.write('asi, sobre escribe todo lo que hubiese')\n",
    "f.close()\n",
    "\n",
    "f2 = open('txtpruebas.txt', 'r')\n",
    "file_data2 = f2.read()\n",
    "f2.close()\n",
    "print(file_data2)\n",
    "\n",
    "f = open('txtpruebas.txt', 'a')\n",
    "f.write('asi, añade a lo que habia')\n",
    "f.close()\n",
    "\n",
    "f2 = open('txtpruebas.txt', 'r')\n",
    "file_data2 = f2.read()\n",
    "f2.close()\n",
    "print(file_data2)\n",
    "\n",
    "\n",
    "ABRIR Y CERRAR EN UNO:\n",
    "with open('txtpruebas.txt', 'r') as f:\n",
    "    file_data = f.read()\n",
    "\n",
    "print(file_data)"
   ]
  },
  {
   "cell_type": "code",
   "execution_count": 112,
   "id": "5f881111",
   "metadata": {},
   "outputs": [
    {
     "name": "stdout",
     "output_type": "stream",
     "text": [
      "2023-03-08 21:01:22.660839+00:00\n",
      "2023-03-08 22:01:22.660839+01:00\n"
     ]
    }
   ],
   "source": [
    "from datetime import datetime\n",
    "import pytz\n",
    "\n",
    "utc = pytz.utc\n",
    "ist = pytz.timezone('Europe/Madrid')\n",
    "\n",
    "now = datetime.now(tz=utc)\n",
    "ist_now = now.astimezone(ist)\n",
    "\n",
    "print(now)\n",
    "print(ist_now)"
   ]
  },
  {
   "cell_type": "code",
   "execution_count": 124,
   "id": "049d19ef",
   "metadata": {},
   "outputs": [
    {
     "name": "stdout",
     "output_type": "stream",
     "text": [
      "[1, 1]\n"
     ]
    }
   ],
   "source": [
    "u = [1,0]\n",
    "v = [0,1]\n",
    "z = []\n",
    "\n",
    "for n,m in zip(u,v):\n",
    "    z.append(n+m)\n",
    "print(z)    "
   ]
  },
  {
   "cell_type": "code",
   "execution_count": null,
   "id": "3d3b4c48",
   "metadata": {},
   "outputs": [],
   "source": []
  }
 ],
 "metadata": {
  "kernelspec": {
   "display_name": "Python 3 (ipykernel)",
   "language": "python",
   "name": "python3"
  },
  "language_info": {
   "codemirror_mode": {
    "name": "ipython",
    "version": 3
   },
   "file_extension": ".py",
   "mimetype": "text/x-python",
   "name": "python",
   "nbconvert_exporter": "python",
   "pygments_lexer": "ipython3",
   "version": "3.9.18"
  }
 },
 "nbformat": 4,
 "nbformat_minor": 5
}
